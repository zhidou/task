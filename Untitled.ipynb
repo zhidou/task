{
 "cells": [
  {
   "cell_type": "code",
   "execution_count": 1,
   "metadata": {
    "collapsed": true
   },
   "outputs": [],
   "source": [
    "import tensorflow as tf\n",
    "from matplotlib import pyplot as plt\n",
    "import numpy as np\n",
    "import pickle\n",
    "np.set_printoptions(threshold=np.nan)\n",
    "np.set_printoptions(precision=3)\n",
    "np.set_printoptions(suppress=True)"
   ]
  },
  {
   "cell_type": "code",
   "execution_count": 2,
   "metadata": {
    "collapsed": true
   },
   "outputs": [],
   "source": [
    "def unpickle(file):\n",
    "    with open(file, 'rb') as fo:\n",
    "        dict = pickle.load(fo, encoding='bytes')\n",
    "    return dict"
   ]
  },
  {
   "cell_type": "code",
   "execution_count": 3,
   "metadata": {},
   "outputs": [],
   "source": [
    "data = unpickle('data_batch_2')\n",
    "data = data[b'data']\n",
    "data = np.reshape(data, [-1, 32, 32, 3], order='F')\n",
    "data = data.transpose([0, 2, 1, 3])\n",
    "data = np.reshape(data, [-1, 32, 32, 3], order='F')"
   ]
  },
  {
   "cell_type": "code",
   "execution_count": 4,
   "metadata": {},
   "outputs": [
    {
     "data": {
      "image/png": "[encoded data removed]",
      "text/plain": [
       "<matplotlib.figure.Figure at 0x7fbc82c76e80>"
      ]
     },
     "metadata": {},
     "output_type": "display_data"
    }
   ],
   "source": [
    "plt.imshow(data[0])\n",
    "plt.show()"
   ]
  },
  {
   "cell_type": "code",
   "execution_count": 5,
   "metadata": {},
   "outputs": [
    {
     "data": {
      "text/plain": [
       "(20, 32, 32, 3)"
      ]
     },
     "execution_count": 5,
     "metadata": {},
     "output_type": "execute_result"
    }
   ],
   "source": [
    "data = data[0:20]\n",
    "data.shape"
   ]
  },
  {
   "cell_type": "code",
   "execution_count": 6,
   "metadata": {
    "collapsed": true
   },
   "outputs": [],
   "source": [
    "# input parameter\n",
    "batch_size = data.shape[0]\n",
    "hight = data.shape[1]\n",
    "width = data.shape[2]\n",
    "color_channel = 3\n",
    "n_input = hight * width * color_channel"
   ]
  },
  {
   "cell_type": "code",
   "execution_count": 7,
   "metadata": {
    "collapsed": true
   },
   "outputs": [],
   "source": [
    "# for global contrast normalization\n",
    "def gcn(x, s=1, l=0, e=10**(-8)):\n",
    "#     transpose x(NHWC)->x(CHWN)\n",
    "    [N, H, W, C] = x.shape\n",
    "    x = x.transpose([3,1,2,0])\n",
    "    mean = (np.ones([H, W, N]) * (np.ones([W, N]) * np.mean(a=x, axis=(0,1,2))))\n",
    "    div = np.sqrt(l + np.sum(a=np.square(x - mean), axis=(0,1,2))/(C * W * H))\n",
    "#     implement max(e, xi) elementwise in tensor\n",
    "    div[div < e] = e\n",
    "    ret = (x - mean) / (np.ones([H, W, N]) * (np.ones([W, N]) * div))\n",
    "#     transpose back to (NHWC)\n",
    "    return ret.transpose([3,1,2,0])\n",
    "\n",
    "\n",
    "# zca whitening\n",
    "def zca(x, e=0.1):\n",
    "    x_white = np.reshape(x, (-1, x.shape[0]), 'C')\n",
    "    [U, S, V] = np.linalg.svd(np.dot(x_white, x_white.transpose()) / x_white.shape[0])\n",
    "    x_white =np.dot(U, np.dot(np.diag(1 / np.sqrt(S + e)), np.dot(U.transpose(), x_white)))\n",
    "    return np.reshape(x_white, x.shape, 'C')\n",
    "\n",
    "# Create some wrappers for simplicity\n",
    "def conv2d(x, padding, W, b, strides=1):\n",
    "    x = tf.nn.conv2d(x, W, strides=[1, strides, strides, 1], padding = padding)\n",
    "    x = tf.nn.bias_add(x, b)\n",
    "    return tf.nn.relu(x)\n",
    "\n",
    "# MaxPool\n",
    "def maxpool(x, padding, ksize=2, stride=2):\n",
    "    return tf.nn.max_pool(x, ksize=[1, ksize, ksize, 1], strides=[1, stride, stride, 1], padding = padding)\n",
    "\n",
    "# VotingPool\n",
    "def votepool(x, padding, ksize=2, stride=2):\n",
    "#     extract image\n",
    "    temp = tf.extract_image_patches(images=x, ksizes=[1, ksize, ksize, 1], strides=[1, stride, stride, 1], rates=[1,1,1,1], padding=padding)\n",
    "    [N, H, W, C] = temp.get_shape().as_list()\n",
    "#     reshape to N,H,W,K*K,C\n",
    "    temp = tf.reshape(temp, [N, H, W, ksize*ksize, -1])\n",
    "    temp = tf.to_int32(tf.round(temp)) # change ceil to round\n",
    "#     build one hot vector\n",
    "    temp = tf.transpose(temp, [0,1,2,4,3])\n",
    "    temp = tf.one_hot(indices=temp, depth=tf.reduce_max(temp), dtype=tf.int8)\n",
    "#     get the most voted value or if equal get the larger one\n",
    "    temp = tf.reverse(tf.reduce_sum(temp, axis=4), axis=[4])\n",
    "    temp = tf.subtract(tf.to_int64(tf.shape(temp)[-1]), tf.argmax(temp, axis=4)) - 1\n",
    "    return temp\n",
    "\n",
    "# pcaPool1\n",
    "def pcapool1(x, mark, padding, ksize=2, stride=2):\n",
    "    temp = tf.extract_image_patches(images=x, ksizes=[1, ksize, ksize, 1], strides=[1, stride, stride, 1], rates=[1,1,1,1], padding=padding)\n",
    "    [N, H, W, C] = temp.get_shape().as_list()\n",
    "#     reshape to N,H,W,K*K,C\n",
    "    temp = tf.reshape(temp, [N, H, W, ksize*ksize, -1])\n",
    "#     transpose last two dimension, for reshape which will compute from the last index\n",
    "    temp = tf.transpose(temp, [0,1,2,4,3])\n",
    "    temp = tf.reshape(temp, [-1, ksize*ksize, 1])\n",
    "#     compute for svd\n",
    "    [s, u, v] = tf.svd(tf.matmul(temp, tf.transpose(temp, [0,2,1])), compute_uv=True)\n",
    "#     use mark to remove Eigenvector except for the first one, which is the main component\n",
    "    u = tf.reduce_sum(tf.multiply(u, mark), axis=2)\n",
    "    u = tf.reshape(u, [-1, 1, ksize*ksize])\n",
    "    temp = tf.matmul(u, temp)\n",
    "    temp = tf.reshape(temp, [N, H, W, -1])\n",
    "    temp = tf.divide(temp, ksize)\n",
    "    return temp\n",
    "\n",
    "# pcaPool2\n",
    "def pcapool2(x, mark, padding, ksize=2, stride=2):\n",
    "    temp = tf.extract_image_patches(images=x, ksizes=[1, ksize, ksize, 1], strides=[1, stride, stride, 1], rates=[1,1,1,1], padding=padding)\n",
    "    [N, H, W, C] = temp.get_shape().as_list()\n",
    "#     reshape to N,H,W,K*K,C\n",
    "    temp = tf.reshape(temp, [N, H, W, ksize*ksize, -1])\n",
    "#     transpose last two dimension, for reshape which will compute from the last index\n",
    "    temp = tf.transpose(temp, [0,1,2,4,3])\n",
    "    temp = tf.reshape(temp, [-1, ksize*ksize])\n",
    "    temp = tf.transpose(temp)\n",
    "#     compute for svd\n",
    "    [s, u, v] = tf.svd(tf.matmul(temp, tf.transpose(temp)), compute_uv=True)\n",
    "#     use mark to remove Eigenvector except for the first one, which is the main component\n",
    "    u = tf.reduce_sum(tf.multiply(u, mark), axis=1, keep_dims=True)\n",
    "    temp = tf.matmul(tf.transpose(u), temp)\n",
    "    temp = tf.reshape(temp, [N, H, W, -1])\n",
    "    temp = tf.divide(temp, ksize)\n",
    "    return temp"
   ]
  },
  {
   "cell_type": "code",
   "execution_count": 8,
   "metadata": {},
   "outputs": [
    {
     "data": {
      "text/plain": [
       "0.0"
      ]
     },
     "execution_count": 8,
     "metadata": {},
     "output_type": "execute_result"
    }
   ],
   "source": [
    "# test the gcn function\n",
    "test_data = data[0,:,:,:]\n",
    "mean = np.mean(test_data)\n",
    "test_gcn = (test_data - mean) / max(10**(-8), np.sqrt(np.sum(np.square(test_data - mean))/(hight * width * color_channel)))\n",
    "test_gcn1 = gcn(data[0:2])\n",
    "np.max(test_gcn - test_gcn1[0,:,:,:])"
   ]
  },
  {
   "cell_type": "code",
   "execution_count": 9,
   "metadata": {},
   "outputs": [
    {
     "name": "stdout",
     "output_type": "stream",
     "text": [
      "[[ 1  2  3  4]\n",
      " [ 2  6  7  8]\n",
      " [ 9 10 11 12]\n",
      " [13 14 15 16]]\n",
      "[[ 2  8]\n",
      " [14 16]]\n"
     ]
    }
   ],
   "source": [
    "# test votepool\n",
    "tt = np.array([range(1, 33)])\n",
    "tt = np.reshape(tt, [1,4,4,2], order='F')\n",
    "tt = np.transpose(tt, [0, 2, 1, 3])\n",
    "tt = np.reshape(tt, [1,4,4,2], order='C')\n",
    "tt[0,1,0,0] = 2\n",
    "x = votepool(tf.constant(tt, dtype=tf.float32), padding='VALID')\n",
    "\n",
    "with tf.Session() as sess:\n",
    "    result = sess.run(x)\n",
    "print(tt[0,:,:,0])\n",
    "print(result[0,:,:,0])"
   ]
  },
  {
   "cell_type": "code",
   "execution_count": 10,
   "metadata": {},
   "outputs": [
    {
     "data": {
      "text/plain": [
       "array([[-0.149,  0.989, -0.   , -0.   ],\n",
       "       [-0.298, -0.045,  0.815,  0.496],\n",
       "       [-0.298, -0.045,  0.412, -0.86 ],\n",
       "       [-0.894, -0.135, -0.409,  0.122]])"
      ]
     },
     "execution_count": 10,
     "metadata": {},
     "output_type": "execute_result"
    }
   ],
   "source": [
    "# test pcapool\n",
    "tt1 = np.array([[1,2,2,6],[3,4,7,8],[9,10,13,14],[11,12,15,16]])\n",
    "tt1 = np.reshape(tt1, [4, 4,1])\n",
    "[U, S, V] = np.linalg.svd(np.matmul(tt1, tt1.transpose([0, 2, 1])))\n",
    "U[0]"
   ]
  },
  {
   "cell_type": "code",
   "execution_count": 11,
   "metadata": {},
   "outputs": [
    {
     "data": {
      "text/plain": [
       "array([[ -6.708, -11.747],\n",
       "       [-23.367, -27.313]])"
      ]
     },
     "execution_count": 11,
     "metadata": {},
     "output_type": "execute_result"
    }
   ],
   "source": [
    "U = U[:, :, 0]\n",
    "U = np.reshape(U, [4, 1, 4])\n",
    "ret1 = np.reshape(np.matmul(U, tt1), [2,2])\n",
    "ret1"
   ]
  },
  {
   "cell_type": "code",
   "execution_count": 12,
   "metadata": {},
   "outputs": [
    {
     "data": {
      "text/plain": [
       "array([[  3.354,   5.874],\n",
       "       [ 11.683,  13.657]], dtype=float32)"
      ]
     },
     "execution_count": 12,
     "metadata": {},
     "output_type": "execute_result"
    }
   ],
   "source": [
    "x = tf.placeholder(tf.float32, [1, 4, 4, 2])\n",
    "mark = tf.constant(np.array([[1,0,0,0]]*4), dtype=tf.float32)\n",
    "y = pcapool1(x, mark, 'VALID')\n",
    "with tf.Session() as sess:\n",
    "    ret = sess.run(y, feed_dict={x: tt})\n",
    "ret[0,:,:,0]"
   ]
  },
  {
   "cell_type": "code",
   "execution_count": 13,
   "metadata": {},
   "outputs": [
    {
     "data": {
      "text/plain": [
       "array([[-0.442, -0.614,  0.216, -0.617],\n",
       "       [-0.466, -0.35 ,  0.255,  0.772],\n",
       "       [-0.524,  0.079, -0.848, -0.   ],\n",
       "       [-0.559,  0.703,  0.411, -0.154]])"
      ]
     },
     "execution_count": 13,
     "metadata": {},
     "output_type": "execute_result"
    }
   ],
   "source": [
    "# test pcapool\n",
    "tt1 = np.array([[1,2,2,6],[3,4,7,8],[9,10,13,14],[11,12,15,16]]).transpose()\n",
    "tt1 = np.concatenate((tt1, tt1 + 16), axis = 1)\n",
    "[U, S, V] = np.linalg.svd(np.matmul(tt1, tt1.transpose()))\n",
    "U"
   ]
  },
  {
   "cell_type": "code",
   "execution_count": 14,
   "metadata": {},
   "outputs": [
    {
     "data": {
      "text/plain": [
       "array([[[[ -5.777, -11.332],\n",
       "         [-23.281, -27.264]],\n",
       "\n",
       "        [[-37.64 , -43.195],\n",
       "         [-55.144, -59.127]]]])"
      ]
     },
     "execution_count": 14,
     "metadata": {},
     "output_type": "execute_result"
    }
   ],
   "source": [
    "U = U[:,0]\n",
    "np.reshape(np.matmul(U, tt1), [1,2,2,2])"
   ]
  },
  {
   "cell_type": "code",
   "execution_count": 15,
   "metadata": {
    "collapsed": true
   },
   "outputs": [],
   "source": [
    "x = tf.placeholder(tf.float32, [1, 4, 4, 2])\n",
    "mark = tf.constant(np.array([[1,0,0,0]]*4), dtype=tf.float32)\n",
    "y = pcapool2(x, mark, 'VALID')\n",
    "with tf.Session() as sess:\n",
    "    ret = sess.run(y, feed_dict={x: tt})"
   ]
  },
  {
   "cell_type": "code",
   "execution_count": 16,
   "metadata": {},
   "outputs": [
    {
     "data": {
      "text/plain": [
       "array([[  2.883,   5.671],\n",
       "       [ 11.644,  13.635]], dtype=float32)"
      ]
     },
     "execution_count": 16,
     "metadata": {},
     "output_type": "execute_result"
    }
   ],
   "source": [
    "ret[0,:,:,0]"
   ]
  },
  {
   "cell_type": "code",
   "execution_count": 17,
   "metadata": {
    "collapsed": true
   },
   "outputs": [],
   "source": [
    "# Store layers weight & bias\n",
    "weights = {\n",
    "#     3x3 conv, 32 outputs\n",
    "    'wc0': tf.Variable(tf.random_normal([3, 3, 3, 32])),\n",
    "#     5x5 conv, 32 outputs\n",
    "    'wc1': tf.Variable(tf.random_normal([5, 5, 3, 32])),\n",
    "    \n",
    "#     combine of majority and pca with sharing weights 2 * 2 psize\n",
    "    'wc2': tf.Variable(tf.random_normal([1]))\n",
    "}\n",
    "\n",
    "biases = {\n",
    "    'bc0': tf.Variable(tf.random_normal([32]))\n",
    "}\n",
    "\n",
    "mark = {\n",
    "#     mark for 2*2 size pooling\n",
    "    'mark1': tf.constant(np.array([[1,0,0,0]]*4), dtype=tf.float32),\n",
    "#     mark for 3*3 size pooling\n",
    "    'mark2': tf.constant(np.array([[1,0,0,0,0,0,0,0,0]] * 9), dtype=tf.float32)\n",
    "}"
   ]
  },
  {
   "cell_type": "code",
   "execution_count": 18,
   "metadata": {
    "collapsed": true
   },
   "outputs": [],
   "source": [
    "# input and preprocessing\n",
    "data = data[0:1]\n",
    "data = gcn(data)"
   ]
  },
  {
   "cell_type": "code",
   "execution_count": 24,
   "metadata": {
    "collapsed": true
   },
   "outputs": [],
   "source": [
    "# input\n",
    "x = tf.placeholder(tf.float32, [data.shape[0], hight, width, color_channel])\n",
    "# Net setting 5*5 conv with stride = 1, 2*2 pooling with strides = 2, with valid padding\n",
    "cov1 = conv2d(x, 'VALID', weights['wc1'], biases['bc0'], strides=1)\n",
    "# maxpool\n",
    "Net1_1 = maxpool(cov1, 'VALID', ksize=2, stride=2)\n",
    "# Votepool\n",
    "Net1_2 = votepool(cov1, 'VALID', ksize=2, stride=2)\n",
    "# pcapool1\n",
    "Net1_3 = pcapool1(cov1, mark['mark1'], 'VALID', ksize=2, stride=2)\n",
    "# pcapool2\n",
    "Net1_4 = pcapool2(cov1, mark['mark1'], 'VALID', ksize=2, stride=2)\n",
    "\n",
    "\n",
    "# compute weight and then pool\n",
    "\n",
    "\n",
    "\n",
    "\n",
    "\n",
    "\n",
    "# linearly combine votepool and pcapool result (sharing parameters through all patches and all features)\n",
    "Net1_5 = tf.add(tf.multiply(Net1_4, weights['wc2']), \n",
    "                tf.multiply(tf.to_float(Net1_2), tf.subtract(tf.constant([1.]), weights['wc2'])))\n",
    "\n",
    "# maxpool multiply with majoritypooling, taking majority pooling as parameter\n",
    "Net1_6 = tf.multiply(Net1_1, tf.to_float(tf.divide(Net1_2, tf.reduce_max(Net1_2, axis=[1,2], keep_dims=True))))\n",
    "\n",
    "# maxpool multiply with pcapooling, taking pcapooling as parameter\n",
    "Net1_7 = tf.divide(Net1_4, tf.reduce_max(Net1_4, axis=[1,2], keep_dims=True))\n",
    "# Net1_7 = tf.multiply(Net1_1, tf.divide(Net1_4, tf.reduce_max(Net1_4, axis=[1,2], keep_dims=True)))\n",
    "\n",
    "\n",
    "with tf.Session() as sess:\n",
    "    sess.run(tf.global_variables_initializer())\n",
    "    \n",
    "    # Net setting 5*5 conv with stride = 1, 2*2 pooling with strides = 2, with valid padding\n",
    "    Net_result0 = sess.run(cov1, feed_dict={x: data})\n",
    "    Net_result1 = sess.run(Net1_1, feed_dict={x: data})\n",
    "    Net_result2 = sess.run(Net1_2, feed_dict={x: data})\n",
    "    Net_result3 = sess.run(Net1_3, feed_dict={x: data})\n",
    "    Net_result4 = sess.run(Net1_4, feed_dict={x: data})\n",
    "    Net_result5 = sess.run(Net1_5, feed_dict={x: data})\n",
    "    Net_result6 = sess.run(Net1_6, feed_dict={x: data})\n",
    "    Net_result7 = sess.run(Net1_7, feed_dict={x: data})"
   ]
  },
  {
   "cell_type": "code",
   "execution_count": 25,
   "metadata": {},
   "outputs": [
    {
     "data": {
      "text/plain": [
       "array([[ 0.207,  0.481,  0.501,  0.502,  0.37 ,  0.197,  0.   ,  0.   ,\n",
       "         0.   ,  0.002,  0.   ,  0.   ,  0.   ,  0.233],\n",
       "       [ 0.124,  0.346,  0.407,  0.496,  0.479,  0.383,  0.175,  0.   ,\n",
       "         0.025,  0.   ,  0.   ,  0.   ,  0.045,  0.383],\n",
       "       [ 0.212,  0.304,  0.292,  0.336,  0.362,  0.224,  0.09 ,  0.183,\n",
       "         0.105,  0.188,  0.066,  0.   ,  0.029,  0.386],\n",
       "       [ 0.214,  0.331,  0.3  ,  0.154,  0.111,  0.307,  0.155,  0.372,\n",
       "         0.574,  0.337,  0.57 ,  0.413,  0.567,  0.311],\n",
       "       [ 0.421,  0.295,  0.633,  0.597,  0.193,  0.098,  0.727,  0.691,\n",
       "         0.733,  0.611,  0.637,  0.752,  1.   ,  0.753],\n",
       "       [ 0.304,  0.144,  0.105,  0.253,  0.468,  0.48 ,  0.139,  0.053,\n",
       "         0.   ,  0.   ,  0.   ,  0.141,  0.414,  0.372],\n",
       "       [ 0.012,  0.521,  0.479,  0.292,  0.341,  0.818,  0.545,  0.354,\n",
       "         0.425,  0.521,  0.503,  0.43 ,  0.431,  0.469],\n",
       "       [ 0.007,  0.248,  0.898,  0.731,  0.357,  0.168,  0.384,  0.275,\n",
       "         0.209,  0.152,  0.081,  0.094,  0.039,  0.   ],\n",
       "       [ 0.052,  0.015,  0.   ,  0.044,  0.   ,  0.   ,  0.   ,  0.   ,\n",
       "         0.   ,  0.   ,  0.   ,  0.   ,  0.   ,  0.   ],\n",
       "       [ 0.   ,  0.   ,  0.   ,  0.   ,  0.   ,  0.   ,  0.   ,  0.   ,\n",
       "         0.   ,  0.   ,  0.   ,  0.   ,  0.   ,  0.   ],\n",
       "       [ 0.   ,  0.   ,  0.   ,  0.   ,  0.   ,  0.   ,  0.   ,  0.   ,\n",
       "         0.   ,  0.   ,  0.   ,  0.   ,  0.   ,  0.   ],\n",
       "       [ 0.   ,  0.   ,  0.   ,  0.   ,  0.   ,  0.   ,  0.   ,  0.   ,\n",
       "         0.   ,  0.   ,  0.   ,  0.   ,  0.   ,  0.   ],\n",
       "       [ 0.   ,  0.   ,  0.   ,  0.   ,  0.   ,  0.   ,  0.   ,  0.   ,\n",
       "         0.   ,  0.   ,  0.   ,  0.   ,  0.   ,  0.   ],\n",
       "       [ 0.   ,  0.   ,  0.   ,  0.   ,  0.   ,  0.   ,  0.   ,  0.   ,\n",
       "         0.   ,  0.   ,  0.   ,  0.   ,  0.   ,  0.   ]], dtype=float32)"
      ]
     },
     "execution_count": 25,
     "metadata": {},
     "output_type": "execute_result"
    }
   ],
   "source": [
    "Net_result7[0,:,:,0]"
   ]
  },
  {
   "cell_type": "code",
   "execution_count": 23,
   "metadata": {},
   "outputs": [],
   "source": [
    "with open('output.txt', 'w') as f:\n",
    "    f.write('feature map value: \\n')\n",
    "with open('output.txt', 'ab') as f:\n",
    "    np.savetxt(f, Net_result0[0,:,:,0], delimiter=', ',fmt=\"%.2f\")\n",
    "    \n",
    "with open('output.txt', 'a') as f:\n",
    "    f.write('\\nmaxpooling value: \\n')\n",
    "with open('output.txt', 'ab') as f:\n",
    "    np.savetxt(f, Net_result1[0,:,:,0], delimiter=', ',fmt=\"%.2f\")\n",
    "    \n",
    "with open('output.txt', 'a') as f:\n",
    "    f.write('\\nmajoritypooling value: \\n')\n",
    "with open('output.txt', 'ab') as f:\n",
    "    np.savetxt(f, Net_result2[0,:,:,0], delimiter=', ',fmt=\"%.2f\")\n",
    "    \n",
    "with open('output.txt', 'a') as f:\n",
    "    f.write('\\npcapooling value: \\n')\n",
    "with open('output.txt', 'ab') as f:\n",
    "    np.savetxt(f, Net_result4[0,:,:,0], delimiter=', ',fmt=\"%.2f\")\n",
    "    \n",
    "with open('output.txt', 'a') as f:\n",
    "    f.write('\\nmajority and pca value: \\n')\n",
    "with open('output.txt', 'ab') as f:\n",
    "    np.savetxt(f, Net_result5[0,:,:,0], delimiter=', ',fmt=\"%.2f\")\n",
    "    \n",
    "with open('output.txt', 'a') as f:\n",
    "    f.write('\\nmax with majority value: \\n')\n",
    "with open('output.txt', 'ab') as f:\n",
    "    np.savetxt(f, Net_result6[0,:,:,0], delimiter=', ',fmt=\"%.2f\")\n",
    "    \n",
    "with open('output.txt', 'a') as f:\n",
    "    f.write('\\nmax with pca value: \\n')\n",
    "with open('output.txt', 'ab') as f:\n",
    "    np.savetxt(f, Net_result7[0,:,:,0], delimiter=', ',fmt=\"%.2f\")"
   ]
  }
 ],
 "metadata": {
  "anaconda-cloud": {},
  "kernelspec": {
   "display_name": "Python 3",
   "language": "python",
   "name": "python3"
  },
  "language_info": {
   "codemirror_mode": {
    "name": "ipython",
    "version": 3
   },
   "file_extension": ".py",
   "mimetype": "text/x-python",
   "name": "python",
   "nbconvert_exporter": "python",
   "pygments_lexer": "ipython3",
   "version": "3.6.1"
  }
 },
 "nbformat": 4,
 "nbformat_minor": 2
}
