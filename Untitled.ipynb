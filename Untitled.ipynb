{
 "cells": [
  {
   "cell_type": "code",
   "execution_count": 1,
   "metadata": {
    "collapsed": true
   },
   "outputs": [],
   "source": [
    "import tensorflow as tf\n",
    "from matplotlib import pyplot as plt\n",
    "import numpy as np\n",
    "import pickle\n",
    "np.set_printoptions(threshold=np.nan)\n",
    "np.set_printoptions(precision=3)\n",
    "np.set_printoptions(suppress=True)"
   ]
  },
  {
   "cell_type": "code",
   "execution_count": 2,
   "metadata": {
    "collapsed": true
   },
   "outputs": [],
   "source": [
    "def unpickle(file):\n",
    "    with open(file, 'rb') as fo:\n",
    "        dict = pickle.load(fo, encoding='bytes')\n",
    "    return dict"
   ]
  },
  {
   "cell_type": "code",
   "execution_count": 3,
   "metadata": {
    "collapsed": true
   },
   "outputs": [],
   "source": [
    "data = unpickle('data_batch_2')\n",
    "data = data[b'data']\n",
    "data = np.reshape(data, [-1, 32, 32, 3], order='F')\n",
    "data = data.transpose([0, 2, 1, 3])\n",
    "data = np.reshape(data, [-1, 32, 32, 3], order='F')"
   ]
  },
  {
   "cell_type": "code",
   "execution_count": 4,
   "metadata": {},
   "outputs": [
    {
     "data": {
      "image/png": "[encoded data removed]",
      "text/plain": [
       "<matplotlib.figure.Figure at 0x7f80446323c8>"
      ]
     },
     "metadata": {},
     "output_type": "display_data"
    }
   ],
   "source": [
    "plt.imshow(data[0])\n",
    "plt.show()"
   ]
  },
  {
   "cell_type": "code",
   "execution_count": 5,
   "metadata": {},
   "outputs": [
    {
     "data": {
      "text/plain": [
       "(20, 32, 32, 3)"
      ]
     },
     "execution_count": 5,
     "metadata": {},
     "output_type": "execute_result"
    }
   ],
   "source": [
    "data = data[0:20]\n",
    "data.shape"
   ]
  },
  {
   "cell_type": "code",
   "execution_count": 6,
   "metadata": {
    "collapsed": true
   },
   "outputs": [],
   "source": [
    "# input parameter\n",
    "batch_size, hight, width, color_channel = data.shape\n",
    "n_input = hight * width * color_channel"
   ]
  },
  {
   "cell_type": "code",
   "execution_count": 7,
   "metadata": {
    "collapsed": true
   },
   "outputs": [],
   "source": [
    "# preprocessing functions\n",
    "\n",
    "# for global contrast normalization\n",
    "def gcn(x, s=1, l=0, e=10**(-8)):\n",
    "#     transpose x(NHWC)->x(CHWN)\n",
    "    [N, H, W, C] = x.shape\n",
    "    x = x.transpose([3,1,2,0])\n",
    "    mean = (np.ones([H, W, N]) * (np.ones([W, N]) * np.mean(a=x, axis=(0,1,2))))\n",
    "    div = np.sqrt(l + np.sum(a=np.square(x - mean), axis=(0,1,2))/(C * W * H))\n",
    "#     implement max(e, xi) elementwise in tensor\n",
    "    div[div < e] = e\n",
    "    ret = (x - mean) / (np.ones([H, W, N]) * (np.ones([W, N]) * div))\n",
    "#     transpose back to (NHWC)\n",
    "    return ret.transpose([3,1,2,0])\n",
    "\n",
    "\n",
    "# zca whitening\n",
    "def zca(x, e=0.1):\n",
    "    x_white = np.reshape(x, (-1, x.shape[0]), 'C')\n",
    "    [U, S, V] = np.linalg.svd(np.dot(x_white, x_white.transpose()) / x_white.shape[0])\n",
    "    x_white =np.dot(U, np.dot(np.diag(1 / np.sqrt(S + e)), np.dot(U.transpose(), x_white)))\n",
    "    return np.reshape(x_white, x.shape, 'C')"
   ]
  },
  {
   "cell_type": "code",
   "execution_count": 23,
   "metadata": {
    "collapsed": true
   },
   "outputs": [],
   "source": [
    "# Create some wrappers for simplicity\n",
    "def conv2d(x, padding, W, b, strides=1):\n",
    "    x = tf.nn.conv2d(x, W, strides=[1, strides, strides, 1], padding = padding)\n",
    "    x = tf.nn.bias_add(x, b)\n",
    "    return tf.nn.relu(x)\n",
    "\n",
    "# extract patches from feature maps\n",
    "# input shape N, H, W, C\n",
    "# output shape N, H, W, K, C\n",
    "def extract_patches(x, padding, ksize=2, stride=2):\n",
    "    temp = tf.extract_image_patches(images=x, ksizes=[1, ksize, ksize, 1], strides=[1, stride, stride, 1], rates=[1,1,1,1], padding=padding)\n",
    "    [N, H, W, C] = temp.get_shape().as_list()\n",
    "    C = x.get_shape().as_list()[-1]\n",
    "#     reshape to N,H,W,K,C\n",
    "    temp = tf.reshape(temp, [N, H, W, ksize*ksize, C])\n",
    "    return temp\n",
    "\n",
    "# compute the frequency of element in each patch\n",
    "# input extracted patches tensor in shape N, H, W, K, C\n",
    "# output frequency tensor in shape N, H, W, K, C\n",
    "def majority_frequency(temp):\n",
    "    [N, H, W, K, C] = temp.get_shape().as_list()\n",
    "    temp = tf.to_int32(tf.round(temp))\n",
    "    \n",
    "#     build one hot vector\n",
    "    temp = tf.transpose(temp, [0,1,2,4,3])\n",
    "    one_hot = tf.one_hot(indices=temp, depth=tf.reduce_max(temp) + 1, dtype=tf.float32)\n",
    "#     the dimension is bathch, row, col, lay, one hot\n",
    "#     the order tensorflow takes, when doiong transpose, it will from the most right to most left\n",
    "    one_hot = tf.reduce_sum(one_hot, axis=4)\n",
    "    temp = tf.transpose(temp, [0, 3, 1, 2, 4])\n",
    "    temp = tf.reshape(temp, [-1,1])\n",
    "    one_hot = tf.transpose(one_hot, [0,3,1,2,4])\n",
    "#     one_hot = tf.reshape(one_hot, [N*H*W*C, -1])\n",
    "    one_hot = tf.reshape(one_hot, [-1, K])\n",
    "    \n",
    "    \n",
    "    index = tf.constant(np.array([range(temp.get_shape().as_list()[0])])/ K, dtype=tf.int32)\n",
    "    temp = tf.concat((tf.transpose(index), temp), axis=1)\n",
    "    \n",
    "#     to get the percentage\n",
    "    temp = tf.gather_nd(one_hot, temp)\n",
    "    temp = tf.reshape(temp, [-1, C, H, W, K])\n",
    "#     finally we change it back to N,H,W,K,C\n",
    "    temp = tf.transpose(temp, [0, 2, 3, 4, 1])\n",
    "    \n",
    "    return temp\n",
    "\n",
    "# compute weight based on frequency tensor\n",
    "# fun could be tf.reduce_max, tf.reduce_sum, reduce_size(in str)\n",
    "# output in shape N, H, W, K, C\n",
    "def compute_weight(w, fun):\n",
    "    if isinstance(fun, str): deno = w.get_shape().as_list()[3]\n",
    "    else: deno = fun(w, axis=3, keep_dims=True)\n",
    "    temp = tf.divide(w, deno)\n",
    "    return temp"
   ]
  },
  {
   "cell_type": "code",
   "execution_count": 20,
   "metadata": {
    "collapsed": true
   },
   "outputs": [],
   "source": [
    "# pooling funtions\n",
    "\n",
    "# MaxPool\n",
    "def max_pool(p):\n",
    "    return tf.reduce_max(p, axis=3)\n",
    "\n",
    "# majority pooling\n",
    "# input frequency tensor\n",
    "# output majority pooling\n",
    "def majority_pool(p, f):\n",
    "    btemp = tf.reduce_max(f , axis=[3], keep_dims=True)\n",
    "#     get the index of the majority element\n",
    "    temp = tf.equal(f, btemp)\n",
    "    temp = tf.to_float(temp)\n",
    "#     use the largest frequency to represent each window\n",
    "    btemp = tf.squeeze(btemp, squeeze_dims=3)\n",
    "#     compute mean of the elements that have same round value in each window\n",
    "    temp = tf.divide(tf.reduce_sum(tf.multiply(p, temp), axis=[3]), btemp)\n",
    "#     when the largest frequency is 1, then we just the max value in p as the result, else use the mean of the of elements\n",
    "#     having the same round value, as the result.\n",
    "    temp = tf.where(tf.equal(btemp, 1), \n",
    "                    tf.reduce_max(p, axis=[3]), temp)\n",
    "    return temp\n",
    "\n",
    "# pcaPool\n",
    "# if m == 1, then consider each window as an unique instances, and each window have their own pca encoder\n",
    "# if m != 1, then all windows fetch from the same feature map share one pca encoder\n",
    "def pca_pool(temp, m = 1):\n",
    "    [N, H, W, K, C] = temp.get_shape().as_list()\n",
    "    if m == 1:\n",
    "        temp = tf.transpose(temp, [0,1,2,4,3])\n",
    "        temp = tf.reshape(temp, [-1, K, 1])\n",
    "    else:\n",
    "        temp = tf.transpose(temp, [0,4,3,1,2])\n",
    "        temp = tf.reshape(temp, [-1, K, H*W])\n",
    "#     compute for svd\n",
    "    [s, u, v] = tf.svd(tf.matmul(temp, tf.transpose(temp, [0,2,1])), compute_uv=True)\n",
    "#     use mark to remove Eigenvector except for the first one, which is the main component\n",
    "    temp_mark = np.zeros([K,K])\n",
    "    temp_mark[:,0] = 1\n",
    "    mark = tf.constant(temp_mark, dtype=tf.float32)\n",
    "    \n",
    "#     after reduce_sum actually it has been transposed automatically\n",
    "    u = tf.reduce_sum(tf.multiply(u, mark), axis=2)\n",
    "    u = tf.reshape(u, [-1, 1, K])\n",
    "    \n",
    "    temp = tf.matmul(u, temp)/np.sqrt(K)\n",
    "    if m == 1: temp = tf.reshape(temp, [-1, H, W, C])\n",
    "    else: \n",
    "        temp = tf.reshape(temp, [-1, C, H, W])\n",
    "        temp = tf.transpose(temp, [0, 2, 3, 1])\n",
    "    return temp"
   ]
  },
  {
   "cell_type": "code",
   "execution_count": 10,
   "metadata": {
    "collapsed": true
   },
   "outputs": [],
   "source": [
    "# weithed pooling functions\n",
    "\n",
    "# weight before maxpool p:= patches, w:= weights\n",
    "def weight_pool(p, f, reduce_fun, pool_fun):\n",
    "    temp = tf.multiply(p, compute_weight(f, reduce_fun))\n",
    "    if pool_fun is majority_pool:\n",
    "        temp = pool_fun(temp, majority_frequency(temp))\n",
    "    else: temp = pool_fun(temp)\n",
    "    return temp\n",
    "\n",
    "# maxpool before weight\n",
    "def pool_weight(p, f, reduce_fun, pool_fun):\n",
    "#     for now both p and w are in the shape of N,H,W,K,C\n",
    "    [N, H, W, K, C] = p.get_shape().as_list()\n",
    "    w = compute_weight(f, reduce_fun)\n",
    "    if pool_fun is majority_pool:\n",
    "        p = pool_fun(p, f)\n",
    "        w = tf.reduce_max(w, axis=3)\n",
    "    else:\n",
    "#     argmax in the shape of N, H, W, C\n",
    "        argmax = tf.argmax(p, axis=3)\n",
    "        p = pool_fun(p)\n",
    "#     move C before H\n",
    "        argmax = tf.transpose(argmax, [0, 3, 1, 2])\n",
    "        w = tf.transpose(w, [0, 4, 1, 2, 3])\n",
    "#     flatten argmax and w\n",
    "        argmax = tf.reshape(argmax, [N*H*W*C, 1])\n",
    "        w = tf.reshape(w, [N*H*W*C, K])\n",
    "#     create index helper\n",
    "        index = tf.constant(np.array([range(argmax.get_shape().as_list()[0])]), dtype=tf.int64)\n",
    "        argmax = tf.concat((tf.transpose(index), argmax), axis=1)\n",
    "#     get the corresponding weight of the max\n",
    "        w = tf.gather_nd(w, argmax)\n",
    "        w = tf.reshape(w, [N, C, H, W])\n",
    "        w = tf.transpose(w, [0, 2, 3, 1])\n",
    "    \n",
    "    return tf.multiply(p, w)"
   ]
  },
  {
   "cell_type": "code",
   "execution_count": 11,
   "metadata": {},
   "outputs": [
    {
     "data": {
      "text/plain": [
       "0.0"
      ]
     },
     "execution_count": 11,
     "metadata": {},
     "output_type": "execute_result"
    }
   ],
   "source": [
    "# test the gcn function\n",
    "test_data = data[0,:,:,:]\n",
    "mean = np.mean(test_data)\n",
    "test_gcn = (test_data - mean) / max(10**(-8), np.sqrt(np.sum(np.square(test_data - mean))/(hight * width * color_channel)))\n",
    "test_gcn1 = gcn(data[0:2])\n",
    "np.max(test_gcn - test_gcn1[0,:,:,:])"
   ]
  },
  {
   "cell_type": "code",
   "execution_count": 12,
   "metadata": {
    "collapsed": true
   },
   "outputs": [],
   "source": [
    "tt = np.array([range(1, 33)])\n",
    "tt = np.reshape(tt, [1,4,4,2], order='F')\n",
    "tt = np.transpose(tt, [0, 2, 1, 3])\n",
    "tt = np.reshape(tt, [1,4,4,2], order='C')\n",
    "tt[0,0,3,0] = 3\n",
    "tt[0,2,0,0] = 13\n",
    "tt[0,2,1,0] = 13\n",
    "tt[0,2,3,0] = 11\n",
    "tt[0,3,2,0] = 11\n",
    "tt[0,3,3,0] = 11\n",
    "tt[0,0,0,1] = 18\n",
    "tt[0,1,0,1] = 18\n",
    "tt[0,1,1,1] = 18\n",
    "tt[0,0,2,1] = 23\n",
    "tt[0,0,3,1] = 23\n",
    "tt[0,2,0,1] = 30"
   ]
  },
  {
   "cell_type": "code",
   "execution_count": 24,
   "metadata": {
    "collapsed": true
   },
   "outputs": [],
   "source": [
    "# test pooling functions\n",
    "x = tf.constant(tt, dtype=tf.float32)\n",
    "\n",
    "p = extract_patches(x, \"VALID\", 2, 2)\n",
    "f = majority_frequency(p)\n",
    "r0 = max_pool(p)\n",
    "r1 = majority_pool(p, f)\n",
    "r2 = weight_pool(p, f, tf.reduce_max, majority_pool)\n",
    "r3 = pool_weight(p, f, tf.reduce_max, majority_pool)\n",
    "r4 = weight_pool(p, f, tf.reduce_max, max_pool)\n",
    "r5 = pool_weight(p, f, tf.reduce_max, max_pool)\n",
    "# temp = max_weight(p, f, tf.reduce_max)\n",
    "\n",
    "# temp = tf.nn.max_pool(x, ksize=[1,2,2,1],padding='VALID',strides=[1,2,2,1])\n",
    "\n",
    "with tf.Session() as sess:\n",
    "    ret0 = sess.run(r0)\n",
    "    ret1 = sess.run(r1)\n",
    "    ret2 = sess.run(r2)\n",
    "    ret3 = sess.run(r3)\n",
    "    ret4 = sess.run(r4)\n",
    "    ret5 = sess.run(r5)"
   ]
  },
  {
   "cell_type": "code",
   "execution_count": 22,
   "metadata": {},
   "outputs": [
    {
     "data": {
      "text/plain": [
       "array([[[[  6.,  18.],\n",
       "         [  8.,  24.]],\n",
       "\n",
       "        [[ 14.,  30.],\n",
       "         [ 11.,  32.]]]], dtype=float32)"
      ]
     },
     "execution_count": 22,
     "metadata": {},
     "output_type": "execute_result"
    }
   ],
   "source": [
    "ret0"
   ]
  },
  {
   "cell_type": "code",
   "execution_count": 25,
   "metadata": {},
   "outputs": [
    {
     "data": {
      "text/plain": [
       "array([[[[  6.,  inf],\n",
       "         [ inf,  inf]],\n",
       "\n",
       "        [[ inf,  inf],\n",
       "         [ inf,  inf]]]], dtype=float32)"
      ]
     },
     "execution_count": 25,
     "metadata": {},
     "output_type": "execute_result"
    }
   ],
   "source": [
    "ret1"
   ]
  },
  {
   "cell_type": "code",
   "execution_count": 24,
   "metadata": {},
   "outputs": [
    {
     "data": {
      "text/plain": [
       "array([[[[  6.  ,  18.  ],\n",
       "         [  6.75,  23.  ]],\n",
       "\n",
       "        [[ 13.  ,  30.  ],\n",
       "         [ 11.  ,  32.  ]]]], dtype=float32)"
      ]
     },
     "execution_count": 24,
     "metadata": {},
     "output_type": "execute_result"
    }
   ],
   "source": [
    "ret2"
   ]
  },
  {
   "cell_type": "code",
   "execution_count": 25,
   "metadata": {},
   "outputs": [
    {
     "data": {
      "text/plain": [
       "array([[[[  6.,  18.],\n",
       "         [  3.,  23.]],\n",
       "\n",
       "        [[ 13.,  30.],\n",
       "         [ 11.,  32.]]]], dtype=float32)"
      ]
     },
     "execution_count": 25,
     "metadata": {},
     "output_type": "execute_result"
    }
   ],
   "source": [
    "ret3"
   ]
  },
  {
   "cell_type": "code",
   "execution_count": 26,
   "metadata": {},
   "outputs": [
    {
     "data": {
      "text/plain": [
       "array([[[[  6.,  18.],\n",
       "         [  4.,  23.]],\n",
       "\n",
       "        [[ 13.,  30.],\n",
       "         [ 11.,  32.]]]], dtype=float32)"
      ]
     },
     "execution_count": 26,
     "metadata": {},
     "output_type": "execute_result"
    }
   ],
   "source": [
    "ret4"
   ]
  },
  {
   "cell_type": "code",
   "execution_count": 27,
   "metadata": {},
   "outputs": [
    {
     "data": {
      "text/plain": [
       "array([[[[  6.   ,  18.   ],\n",
       "         [  4.   ,   8.   ]],\n",
       "\n",
       "        [[  4.667,  30.   ],\n",
       "         [ 11.   ,  32.   ]]]], dtype=float32)"
      ]
     },
     "execution_count": 27,
     "metadata": {},
     "output_type": "execute_result"
    }
   ],
   "source": [
    "ret5"
   ]
  },
  {
   "cell_type": "code",
   "execution_count": 14,
   "metadata": {},
   "outputs": [
    {
     "data": {
      "text/plain": [
       "array([[-0.123,  0.992,  0.015,  0.   ],\n",
       "       [-0.246, -0.029, -0.105, -0.963],\n",
       "       [-0.615, -0.065, -0.748,  0.241],\n",
       "       [-0.739, -0.102,  0.656,  0.12 ]])"
      ]
     },
     "execution_count": 14,
     "metadata": {},
     "output_type": "execute_result"
    }
   ],
   "source": [
    "# test pcapool\n",
    "tt1 = np.array([[1,2,5,6],[3,3,7,8],[13,13,13,14],[11,11,11,11]])\n",
    "tt1 = np.reshape(tt1, [4, 4,1])\n",
    "[U, S, V] = np.linalg.svd(np.matmul(tt1, tt1.transpose([0, 2, 1])))\n",
    "U[0]"
   ]
  },
  {
   "cell_type": "code",
   "execution_count": 15,
   "metadata": {},
   "outputs": [
    {
     "data": {
      "text/plain": [
       "array([[ -8.124, -11.446],\n",
       "       [-26.514, -22.   ]])"
      ]
     },
     "execution_count": 15,
     "metadata": {},
     "output_type": "execute_result"
    }
   ],
   "source": [
    "U = U[:, :, 0]\n",
    "U = np.reshape(U, [4, 1, 4])\n",
    "ret1 = np.reshape(np.matmul(U, tt1), [2,2])\n",
    "ret1"
   ]
  },
  {
   "cell_type": "code",
   "execution_count": 21,
   "metadata": {},
   "outputs": [
    {
     "data": {
      "text/plain": [
       "array([[  4.062,   5.723],\n",
       "       [ 13.257,  11.   ]], dtype=float32)"
      ]
     },
     "execution_count": 21,
     "metadata": {},
     "output_type": "execute_result"
    }
   ],
   "source": [
    "x = tf.placeholder(tf.float32, [1, 4, 4, 2])\n",
    "y = pca_pool(extract_patches(x, padding='VALID'), m=1)\n",
    "with tf.Session() as sess:\n",
    "    ret = sess.run(y, feed_dict={x: tt})\n",
    "ret[0,:,:,0]"
   ]
  },
  {
   "cell_type": "code",
   "execution_count": 19,
   "metadata": {},
   "outputs": [
    {
     "data": {
      "text/plain": [
       "array([[-0.458,  0.623,  0.59 , -0.234],\n",
       "       [-0.434, -0.578,  0.473,  0.503],\n",
       "       [-0.552, -0.401, -0.274, -0.678],\n",
       "       [-0.546,  0.342, -0.594,  0.482]])"
      ]
     },
     "execution_count": 19,
     "metadata": {},
     "output_type": "execute_result"
    }
   ],
   "source": [
    "# test pcapool\n",
    "tt1 = np.array([[1,1,5,6],[3,8,8,4],[9,10,13,13],[16,12,15,16]]).transpose()\n",
    "[U, S, V] = np.linalg.svd(np.matmul(tt1, tt1.transpose()))\n",
    "U"
   ]
  },
  {
   "cell_type": "code",
   "execution_count": 33,
   "metadata": {},
   "outputs": [
    {
     "data": {
      "text/plain": [
       "array([ -3.462,  -5.72 , -11.362, -14.77 ])"
      ]
     },
     "execution_count": 33,
     "metadata": {},
     "output_type": "execute_result"
    }
   ],
   "source": [
    "U = U[:,0]\n",
    "np.matmul(U, tt1) / 2"
   ]
  },
  {
   "cell_type": "code",
   "execution_count": 34,
   "metadata": {},
   "outputs": [
    {
     "data": {
      "text/plain": [
       "array([[[[  3.635,  17.987],\n",
       "         [  5.396,  23.246]],\n",
       "\n",
       "        [[ 13.241,  28.776],\n",
       "         [ 10.972,  29.547]]]], dtype=float32)"
      ]
     },
     "execution_count": 34,
     "metadata": {},
     "output_type": "execute_result"
    }
   ],
   "source": [
    "x = tf.placeholder(tf.float32, [1, 4, 4, 2])\n",
    "y = pca_pool(extract_patches(x, 'VALID'), m=2)\n",
    "with tf.Session() as sess:\n",
    "    ret = sess.run(y, feed_dict={x: tt})\n",
    "ret"
   ]
  },
  {
   "cell_type": "code",
   "execution_count": 18,
   "metadata": {
    "collapsed": true
   },
   "outputs": [],
   "source": [
    "# Store layers weight & bias\n",
    "weights = {\n",
    "#     3x3 conv, 32 outputs\n",
    "    'wc0': tf.Variable(tf.random_normal([3, 3, 3, 32])),\n",
    "#     5x5 conv, 32 outputs\n",
    "    'wc1': tf.Variable(tf.random_normal([5, 5, 3, 32])),\n",
    "    \n",
    "#     combine of majority and pca with sharing weights 2 * 2 psize\n",
    "    'wc2': tf.Variable(tf.random_normal([1]))\n",
    "}\n",
    "\n",
    "biases = {\n",
    "    'bc0': tf.Variable(tf.random_normal([32]))\n",
    "}"
   ]
  },
  {
   "cell_type": "code",
   "execution_count": 19,
   "metadata": {
    "collapsed": true
   },
   "outputs": [],
   "source": [
    "# input and preprocessing\n",
    "data = data[0:1]\n",
    "data = gcn(data)"
   ]
  },
  {
   "cell_type": "code",
   "execution_count": 26,
   "metadata": {
    "collapsed": true
   },
   "outputs": [],
   "source": [
    "# input\n",
    "x = tf.placeholder(tf.float32, [data.shape[0], hight, width, color_channel])\n",
    "# Net setting 5*5 conv with stride = 1, 2*2 pooling with strides = 2, with valid padding\n",
    "cov1 = conv2d(x, 'VALID', weights['wc1'], biases['bc0'], strides=1)\n",
    "# maxpool\n",
    "Net1_1 = maxpool(cov1, 'VALID', ksize=2, stride=2)\n",
    "\n",
    "# extract patches\n",
    "p = extract_patches(cov1, 'VALID', ksize=2, stride=2)\n",
    "\n",
    "\n",
    "# pcapool with m = 2\n",
    "Net1_2 = pcapool(p, m = 1)\n",
    "\n",
    "# computer frequency tensor\n",
    "f = majority_frequency(p)\n",
    "\n",
    "# weighted before maxpool\n",
    "# p is patches tensor, f is frequncy tensor, the last parameter is the method for compute weight\n",
    "Net1_3 = weight_max(p, f, tf.reduce_max)\n",
    "# maxpool before weighting\n",
    "Net1_4 = max_weight(p, f, tf.reduce_max)\n",
    "\n",
    "\n",
    "# linearly combine votepool and pcapool result (sharing parameters through all patches and all features)\n",
    "Net1_5 = tf.add(tf.multiply(Net1_2, weights['wc2']), \n",
    "                tf.multiply(tf.to_float(votepool(p)), tf.subtract(tf.constant([1.]), weights['wc2'])))\n",
    "\n",
    "\n",
    "\n",
    "\n",
    "with tf.Session() as sess:\n",
    "    sess.run(tf.global_variables_initializer())\n",
    "    \n",
    "    # Net setting 5*5 conv with stride = 1, 2*2 pooling with strides = 2, with valid padding\n",
    "    Net_result0 = sess.run(cov1, feed_dict={x: data})\n",
    "    Net_result1 = sess.run(Net1_1, feed_dict={x: data})\n",
    "    Net_result2 = sess.run(Net1_2, feed_dict={x: data})\n",
    "    Net_result3 = sess.run(Net1_3, feed_dict={x: data})\n",
    "    Net_result4 = sess.run(Net1_4, feed_dict={x: data})\n",
    "    Net_result5 = sess.run(Net1_5, feed_dict={x: data})"
   ]
  },
  {
   "cell_type": "code",
   "execution_count": 23,
   "metadata": {},
   "outputs": [
    {
     "data": {
      "text/plain": [
       "array([[  0.   ,   0.   ,   0.   ,   0.   ,   0.   ,   1.006,   0.546,\n",
       "          2.948,   1.461,   1.535,   1.213,   1.409,   0.   ,   0.23 ],\n",
       "       [  0.   ,   0.   ,   0.   ,   0.   ,   0.   ,   0.   ,   0.768,\n",
       "          0.643,   2.887,   1.082,   2.061,   1.421,   0.   ,   0.216],\n",
       "       [  0.   ,   0.   ,   0.   ,   0.   ,   0.   ,   3.372,   3.162,\n",
       "          1.152,   0.   ,   0.381,   1.733,   1.567,   0.   ,   0.   ],\n",
       "       [  0.   ,   0.   ,   0.681,   0.299,   1.497,   0.715,   0.   ,\n",
       "          0.   ,   0.003,   0.   ,   0.002,   0.   ,   0.   ,   0.   ],\n",
       "       [  0.   ,   0.   ,   0.   ,   0.   ,   0.   ,   0.   ,   0.   ,\n",
       "          0.   ,   0.   ,   0.   ,   0.   ,   0.   ,   0.   ,   0.   ],\n",
       "       [  0.13 ,   1.747,   0.844,   0.509,   0.   ,   3.245,   5.613,\n",
       "          9.897,   8.836,   8.92 ,   5.901,   0.155,   1.067,   0.032],\n",
       "       [  0.   ,   0.034,   0.   ,   0.   ,   0.   ,   2.522,   1.964,\n",
       "          0.168,   0.   ,   0.   ,   0.   ,   0.   ,   0.   ,   0.   ],\n",
       "       [  0.   ,   0.   ,   0.   ,   0.998,   0.   ,   0.175,   2.084,\n",
       "          6.719,   8.569,   9.069,  10.819,  10.643,   9.278,   6.922],\n",
       "       [  8.534,   8.695,   6.658,   7.688,  10.33 ,  11.241,   7.45 ,\n",
       "          7.808,   5.993,   3.788,   2.707,   1.881,   0.492,   1.194],\n",
       "       [  3.687,   3.11 ,   2.248,   1.36 ,   0.882,   1.334,   0.955,\n",
       "          1.513,   1.754,   2.538,   3.206,   3.279,   3.784,   4.184],\n",
       "       [  3.635,   3.53 ,   3.514,   3.388,   3.004,   2.891,   3.616,\n",
       "          3.626,   3.795,   3.983,   4.018,   4.155,   4.025,   3.772],\n",
       "       [  3.407,   3.454,   2.953,   3.065,   3.588,   3.798,   3.938,\n",
       "          4.201,   4.394,   4.35 ,   4.536,   4.599,   4.401,   4.331],\n",
       "       [  4.421,   3.872,   4.325,   4.632,   3.99 ,   3.879,   4.08 ,\n",
       "          4.029,   4.342,   4.558,   4.699,   4.291,   4.148,   4.03 ],\n",
       "       [  4.717,   4.667,   4.443,   4.414,   3.95 ,   4.382,   4.5  ,\n",
       "          4.593,   4.535,   4.332,   3.919,   4.266,   4.37 ,   3.972]], dtype=float32)"
      ]
     },
     "execution_count": 23,
     "metadata": {},
     "output_type": "execute_result"
    }
   ],
   "source": [
    "Net_result2[0,:,:,0]"
   ]
  },
  {
   "cell_type": "code",
   "execution_count": 28,
   "metadata": {
    "collapsed": true
   },
   "outputs": [],
   "source": [
    "with open('output.txt', 'w') as f:\n",
    "    f.write('feature map value: \\n')\n",
    "with open('output.txt', 'ab') as f:\n",
    "    np.savetxt(f, Net_result0[0,:,:,0], delimiter=', ',fmt=\"%.2f\")\n",
    "    \n",
    "with open('output.txt', 'a') as f:\n",
    "    f.write('\\nmaxpooling value: \\n')\n",
    "with open('output.txt', 'ab') as f:\n",
    "    np.savetxt(f, Net_result1[0,:,:,0], delimiter=', ',fmt=\"%.2f\")\n",
    "    \n",
    "with open('output.txt', 'a') as f:\n",
    "    f.write('\\npcapooling value: \\n')\n",
    "with open('output.txt', 'ab') as f:\n",
    "    np.savetxt(f, Net_result2[0,:,:,0], delimiter=', ',fmt=\"%.2f\")\n",
    "\n",
    "with open('output.txt', 'a') as f:\n",
    "    f.write('\\nweight before maxpool value: \\n')\n",
    "with open('output.txt', 'ab') as f:\n",
    "    np.savetxt(f, Net_result3[0,:,:,0], delimiter=', ',fmt=\"%.2f\")\n",
    "    \n",
    "\n",
    "with open('output.txt', 'a') as f:\n",
    "    f.write('\\nmaxpool before weight value: \\n')\n",
    "with open('output.txt', 'ab') as f:\n",
    "    np.savetxt(f, Net_result4[0,:,:,0], delimiter=', ',fmt=\"%.2f\")\n",
    "    \n",
    "with open('output.txt', 'a') as f:\n",
    "    f.write('\\nmajority and pca value: \\n')\n",
    "with open('output.txt', 'ab') as f:\n",
    "    np.savetxt(f, Net_result5[0,:,:,0], delimiter=', ',fmt=\"%.2f\")\n",
    "    "
   ]
  }
 ],
 "metadata": {
  "anaconda-cloud": {},
  "kernelspec": {
   "display_name": "Python 3",
   "language": "python",
   "name": "python3"
  },
  "language_info": {
   "codemirror_mode": {
    "name": "ipython",
    "version": 3
   },
   "file_extension": ".py",
   "mimetype": "text/x-python",
   "name": "python",
   "nbconvert_exporter": "python",
   "pygments_lexer": "ipython3",
   "version": "3.6.1"
  }
 },
 "nbformat": 4,
 "nbformat_minor": 2
}
