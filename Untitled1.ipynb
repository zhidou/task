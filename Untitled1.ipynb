{
 "cells": [
  {
   "cell_type": "code",
   "execution_count": 1,
   "metadata": {
    "collapsed": true
   },
   "outputs": [],
   "source": [
    "import tensorflow as tf\n",
    "import numpy as np\n",
    "np.set_printoptions(threshold=np.nan)\n",
    "np.set_printoptions(precision=3)\n",
    "np.set_printoptions(suppress=True)"
   ]
  },
  {
   "cell_type": "code",
   "execution_count": 87,
   "metadata": {
    "collapsed": true
   },
   "outputs": [],
   "source": [
    "tt = np.array([range(1, 33)])\n",
    "tt = np.reshape(tt, [1,4,4,2], order='F')\n",
    "tt = np.transpose(tt, [0, 2, 1, 3])\n",
    "tt = np.reshape(tt, [1,4,4,2], order='C')\n",
    "tt[0,0,1,0] = 1\n",
    "tt[0,1,2,0] = 8\n",
    "tt[0,0,3,0] = 8\n",
    "tt[0,1,3,0] = 4\n",
    "tt[0,3,1,0] = 13\n",
    "tt[0,2,2,0] = 16\n",
    "tt[0,0,3,1] = 19\n",
    "tt[0,1,2,1] = 19\n",
    "tt[0,3,0,1] = 26\n",
    "tt[0,3,1,1] = 26\n",
    "tt[0,3,2,1] = 27\n",
    "tt[0,3,3,1] = 27"
   ]
  },
  {
   "cell_type": "code",
   "execution_count": 88,
   "metadata": {
    "collapsed": false
   },
   "outputs": [
    {
     "data": {
      "text/plain": [
       "array([[ 1,  1,  3,  8],\n",
       "       [ 5,  6,  8,  4],\n",
       "       [ 9, 10, 16, 12],\n",
       "       [13, 13, 15, 16]])"
      ]
     },
     "execution_count": 88,
     "metadata": {},
     "output_type": "execute_result"
    }
   ],
   "source": [
    "tt[0,:,:,0]"
   ]
  },
  {
   "cell_type": "code",
   "execution_count": 89,
   "metadata": {
    "collapsed": false
   },
   "outputs": [
    {
     "data": {
      "text/plain": [
       "array([[17, 18, 19, 19],\n",
       "       [21, 22, 19, 24],\n",
       "       [25, 26, 27, 28],\n",
       "       [26, 26, 27, 27]])"
      ]
     },
     "execution_count": 89,
     "metadata": {},
     "output_type": "execute_result"
    }
   ],
   "source": [
    "tt[0,:,:,1]"
   ]
  },
  {
   "cell_type": "code",
   "execution_count": 5,
   "metadata": {
    "collapsed": true
   },
   "outputs": [],
   "source": [
    "# extract patches from feature maps\n",
    "# input shape N, H, W, C\n",
    "# output shape N, H, W, K, C\n",
    "def extract_patches(x, padding, ksize=2, stride=2):\n",
    "    temp = tf.extract_image_patches(images=x, ksizes=[1, ksize, ksize, 1], strides=[1, stride, stride, 1], rates=[1,1,1,1], padding=padding)\n",
    "    [N, H, W, C] = temp.get_shape().as_list()\n",
    "    C = x.get_shape().as_list()[-1]\n",
    "#     reshape to N,H,W,K,C\n",
    "    temp = tf.reshape(temp, [N, H, W, ksize*ksize, C])\n",
    "    return temp"
   ]
  },
  {
   "cell_type": "code",
   "execution_count": 37,
   "metadata": {
    "collapsed": true
   },
   "outputs": [],
   "source": [
    "# compute the frequency of element in each patch\n",
    "# input extracted patches tensor in shape N, H, W, K, C\n",
    "# output frequency tensor in shape N, H, W, K, C\n",
    "def majority_frequency(temp):\n",
    "    \n",
    "    [N, H, W, K, C] = temp.get_shape().as_list()\n",
    "    temp = tf.to_int32(tf.round(temp))\n",
    "    \n",
    "#     build one hot vector\n",
    "    temp = tf.transpose(temp, [0,1,2,4,3])\n",
    "    one_hot = tf.one_hot(indices=temp, depth=tf.reduce_max(temp) + 1, dtype=tf.float32)\n",
    "#     the dimension is bathch, row, col, lay, one hot\n",
    "#     the order tensorflow takes, when doiong transpose, it will from the most right to most left\n",
    "    one_hot = tf.reduce_sum(one_hot, axis=4)\n",
    "    temp = tf.transpose(temp, [0, 3, 1, 2, 4])\n",
    "    temp = tf.reshape(temp, [-1,1])\n",
    "    one_hot = tf.transpose(one_hot, [0,3,1,2,4])\n",
    "    one_hot = tf.reshape(one_hot, [N*H*W*C, -1])\n",
    "    \n",
    "    index = tf.constant(np.array([range(temp.get_shape().as_list()[0])])/ K, dtype=tf.int32)\n",
    "    temp = tf.concat((tf.transpose(index), temp), axis=1)\n",
    "    \n",
    "#     to get the percentage\n",
    "    temp = tf.gather_nd(one_hot, temp)\n",
    "    temp = tf.reshape(temp, [N, C, H, W, K])\n",
    "#     finally we change it back to N,H,W,K,C\n",
    "    temp = tf.transpose(temp, [0, 2, 3, 4, 1])\n",
    "    \n",
    "    return temp"
   ]
  },
  {
   "cell_type": "code",
   "execution_count": 7,
   "metadata": {
    "collapsed": true
   },
   "outputs": [],
   "source": [
    "# compute weight based on frequency tensor\n",
    "# fun could be tf.reduce_max, tf.reduce_sum, reduce_size\n",
    "# output in shape N, H, W, K, C\n",
    "def compute_weight(w, fun):\n",
    "    if isinstance(fun, str): deno = w.get_shape().as_list()[3]\n",
    "    else: deno = fun(w, axis=3, keep_dims=True)\n",
    "    temp = tf.divide(w, deno)\n",
    "    return temp"
   ]
  },
  {
   "cell_type": "code",
   "execution_count": 84,
   "metadata": {
    "collapsed": true
   },
   "outputs": [],
   "source": [
    "# weight before maxpool p:= patches, w:= weights\n",
    "def weight_max(p, w, fun):\n",
    "    temp = tf.multiply(p, compute_weight(w, fun))\n",
    "    temp = tf.reduce_max(temp, axis=3)\n",
    "    return temp\n",
    "\n",
    "# maxpool before weight\n",
    "def max_weight(p, w, fun):\n",
    "#     for now both p and w are in the shape of N,H,W,K,C\n",
    "    [N, H, W, K, C] = p.get_shape().as_list()\n",
    "    w = compute_weight(w, fun)\n",
    "#     argmax in the shape of N, H, W, C\n",
    "    argmax = tf.argmax(p, axis=3)\n",
    "    p = tf.reduce_max(p, axis=3)\n",
    "#     move C before H\n",
    "    argmax = tf.transpose(argmax, [0, 3, 1, 2])\n",
    "    w = tf.transpose(w, [0, 4, 1, 2, 3])\n",
    "#     flatten argmax and w\n",
    "    argmax = tf.reshape(argmax, [N*H*W*C, 1])\n",
    "    w = tf.reshape(w, [N*H*W*C, K])\n",
    "#     create index helper\n",
    "    index = tf.constant(np.array([range(argmax.get_shape().as_list()[0])]), dtype=tf.int64)\n",
    "    argmax = tf.concat((tf.transpose(index), argmax), axis=1)\n",
    "#     get the corresponding weight of the max\n",
    "    w = tf.gather_nd(w, argmax)\n",
    "    w = tf.reshape(w, [N, C, H, W])\n",
    "    w = tf.transpose(w, [0, 2, 3, 1])\n",
    "    \n",
    "    return tf.multiply(p, w)"
   ]
  },
  {
   "cell_type": "code",
   "execution_count": 90,
   "metadata": {
    "collapsed": false
   },
   "outputs": [],
   "source": [
    "x = tf.constant(tt, dtype=tf.float32)\n",
    "\n",
    "p = extract_patches(x, \"VALID\", 2, 2)\n",
    "f = majority_frequency(p)\n",
    "\n",
    "temp = max_weight(p, f, tf.reduce_max)\n",
    "\n",
    "# temp = tf.nn.max_pool(x, ksize=[1,2,2,1],padding='VALID',strides=[1,2,2,1])\n",
    "\n",
    "with tf.Session() as sess:\n",
    "    ret = sess.run(temp)"
   ]
  },
  {
   "cell_type": "code",
   "execution_count": 245,
   "metadata": {
    "collapsed": true
   },
   "outputs": [],
   "source": [
    "x = tf.constant(np.array([[1,2,3,4],[5,6,7,8]]))\n",
    "\n",
    "with tf.Session() as sess:\n",
    "    ret1 = sess.run(temp)"
   ]
  },
  {
   "cell_type": "code",
   "execution_count": 91,
   "metadata": {
    "collapsed": false
   },
   "outputs": [
    {
     "data": {
      "text/plain": [
       "array([[[[  3.   ,  22.   ],\n",
       "         [  8.   ,   8.   ]],\n",
       "\n",
       "        [[ 13.   ,  26.   ],\n",
       "         [ 16.   ,   9.333]]]], dtype=float32)"
      ]
     },
     "execution_count": 91,
     "metadata": {},
     "output_type": "execute_result"
    }
   ],
   "source": [
    "ret"
   ]
  },
  {
   "cell_type": "code",
   "execution_count": 65,
   "metadata": {
    "collapsed": false
   },
   "outputs": [
    {
     "data": {
      "text/plain": [
       "array([[0, 3],\n",
       "       [1, 3],\n",
       "       [2, 2],\n",
       "       [3, 0],\n",
       "       [4, 3],\n",
       "       [5, 3],\n",
       "       [6, 1],\n",
       "       [7, 1]])"
      ]
     },
     "execution_count": 65,
     "metadata": {},
     "output_type": "execute_result"
    }
   ],
   "source": [
    "ret"
   ]
  },
  {
   "cell_type": "code",
   "execution_count": 83,
   "metadata": {
    "collapsed": false
   },
   "outputs": [
    {
     "data": {
      "text/plain": [
       "array([[[[ 0.5  ,  1.   ],\n",
       "         [ 0.5  ,  0.333]],\n",
       "\n",
       "        [[ 1.   ,  1.   ],\n",
       "         [ 1.   ,  0.333]]]], dtype=float32)"
      ]
     },
     "execution_count": 83,
     "metadata": {},
     "output_type": "execute_result"
    }
   ],
   "source": [
    "ret"
   ]
  },
  {
   "cell_type": "code",
   "execution_count": 78,
   "metadata": {
    "collapsed": false
   },
   "outputs": [
    {
     "data": {
      "text/plain": [
       "array([[[[  6.,  22.],\n",
       "         [  8.,  24.]],\n",
       "\n",
       "        [[ 13.,  26.],\n",
       "         [ 16.,  28.]]]], dtype=float32)"
      ]
     },
     "execution_count": 78,
     "metadata": {},
     "output_type": "execute_result"
    }
   ],
   "source": [
    "ret"
   ]
  },
  {
   "cell_type": "code",
   "execution_count": 99,
   "metadata": {
    "collapsed": false
   },
   "outputs": [
    {
     "ename": "TypeError",
     "evalue": "data type not understood",
     "output_type": "error",
     "traceback": [
      "\u001b[0;31m---------------------------------------------------------------------------\u001b[0m",
      "\u001b[0;31mTypeError\u001b[0m                                 Traceback (most recent call last)",
      "\u001b[0;32m<ipython-input-99-73bdc3dedcc6>\u001b[0m in \u001b[0;36m<module>\u001b[0;34m()\u001b[0m\n\u001b[0;32m----> 1\u001b[0;31m \u001b[0mv\u001b[0m \u001b[0;34m=\u001b[0m \u001b[0mnp\u001b[0m\u001b[0;34m.\u001b[0m\u001b[0mzeros\u001b[0m\u001b[0;34m(\u001b[0m\u001b[0;36m4\u001b[0m\u001b[0;34m,\u001b[0m\u001b[0;36m4\u001b[0m\u001b[0;34m)\u001b[0m\u001b[0;34m\u001b[0m\u001b[0m\n\u001b[0m",
      "\u001b[0;31mTypeError\u001b[0m: data type not understood"
     ]
    }
   ],
   "source": [
    "v = np.zeros(4,4)"
   ]
  },
  {
   "cell_type": "code",
   "execution_count": 98,
   "metadata": {
    "collapsed": false
   },
   "outputs": [
    {
     "data": {
      "text/plain": [
       "array([ 0.,  0.,  0.,  0.])"
      ]
     },
     "execution_count": 98,
     "metadata": {},
     "output_type": "execute_result"
    }
   ],
   "source": [
    "v"
   ]
  },
  {
   "cell_type": "code",
   "execution_count": 95,
   "metadata": {
    "collapsed": false
   },
   "outputs": [],
   "source": [
    "v[:,0] = 1"
   ]
  },
  {
   "cell_type": "code",
   "execution_count": 96,
   "metadata": {
    "collapsed": false
   },
   "outputs": [
    {
     "data": {
      "text/plain": [
       "array([[ 1.,  0.,  0.,  0.],\n",
       "       [ 1.,  0.,  0.,  0.],\n",
       "       [ 1.,  0.,  0.,  0.],\n",
       "       [ 1.,  0.,  0.,  0.]])"
      ]
     },
     "execution_count": 96,
     "metadata": {},
     "output_type": "execute_result"
    }
   ],
   "source": [
    "v"
   ]
  }
 ],
 "metadata": {
  "anaconda-cloud": {},
  "kernelspec": {
   "display_name": "Python [default]",
   "language": "python",
   "name": "python3"
  },
  "language_info": {
   "codemirror_mode": {
    "name": "ipython",
    "version": 3
   },
   "file_extension": ".py",
   "mimetype": "text/x-python",
   "name": "python",
   "nbconvert_exporter": "python",
   "pygments_lexer": "ipython3",
   "version": "3.5.2"
  }
 },
 "nbformat": 4,
 "nbformat_minor": 2
}
