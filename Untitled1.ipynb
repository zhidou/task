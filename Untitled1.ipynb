{
 "cells": [
  {
   "cell_type": "code",
   "execution_count": 26,
   "metadata": {
    "collapsed": true
   },
   "outputs": [],
   "source": [
    "import tensorflow as tf\n",
    "import numpy as np\n",
    "np.set_printoptions(threshold=np.nan)\n",
    "np.set_printoptions(precision=3)\n",
    "np.set_printoptions(suppress=True)"
   ]
  },
  {
   "cell_type": "code",
   "execution_count": 179,
   "metadata": {
    "collapsed": true
   },
   "outputs": [],
   "source": [
    "tt = np.array([range(1, 33)])\n",
    "tt = np.reshape(tt, [1,4,4,2], order='F')\n",
    "tt = np.transpose(tt, [0, 2, 1, 3])\n",
    "tt = np.reshape(tt, [1,4,4,2], order='C')\n",
    "tt[0,1,0,0] = 2\n",
    "tt[0,2,2,0] = 16\n",
    "tt[0,1,0,1] = 2\n",
    "tt[0,3,0,1] = 26"
   ]
  },
  {
   "cell_type": "code",
   "execution_count": 180,
   "metadata": {},
   "outputs": [
    {
     "data": {
      "text/plain": [
       "array([[ 1,  2,  3,  4],\n",
       "       [ 2,  6,  7,  8],\n",
       "       [ 9, 10, 16, 12],\n",
       "       [13, 14, 15, 16]])"
      ]
     },
     "execution_count": 180,
     "metadata": {},
     "output_type": "execute_result"
    }
   ],
   "source": [
    "tt[0,:,:,0]"
   ]
  },
  {
   "cell_type": "code",
   "execution_count": 181,
   "metadata": {},
   "outputs": [
    {
     "data": {
      "text/plain": [
       "array([[17, 18, 19, 20],\n",
       "       [ 2, 22, 23, 24],\n",
       "       [25, 26, 27, 28],\n",
       "       [26, 30, 31, 32]])"
      ]
     },
     "execution_count": 181,
     "metadata": {},
     "output_type": "execute_result"
    }
   ],
   "source": [
    "tt[0,:,:,1]"
   ]
  },
  {
   "cell_type": "code",
   "execution_count": 218,
   "metadata": {
    "collapsed": true
   },
   "outputs": [],
   "source": [
    "def extract_patches(x, padding, ksize=2, stride=2):\n",
    "    temp = tf.extract_image_patches(images=x, ksizes=[1, ksize, ksize, 1], strides=[1, stride, stride, 1], rates=[1,1,1,1], padding=padding)\n",
    "    [N, H, W, C] = temp.get_shape().as_list()\n",
    "    C = x.get_shape().as_list()[-1]\n",
    "#     reshape to N,H,W,K,C\n",
    "    temp = tf.reshape(temp, [N, H, W, ksize*ksize, C])\n",
    "    return temp"
   ]
  },
  {
   "cell_type": "code",
   "execution_count": 246,
   "metadata": {},
   "outputs": [],
   "source": [
    "def majority_frequency(temp):\n",
    "    \n",
    "    [N, H, W, K, C] = temp.get_shape().as_list()\n",
    "    temp = tf.to_int32(tf.round(temp))\n",
    "    \n",
    "#     build one hot vector\n",
    "    temp = tf.transpose(temp, [0,1,2,4,3])\n",
    "    one_hot = tf.one_hot(indices=temp, depth=tf.reduce_max(temp), dtype=tf.float32)\n",
    "#     the dimension is bathch, row, col, lay, one hot\n",
    "#     the order tensorflow takes, when doiong transpose, it will from the most right to most left\n",
    "    one_hot = tf.reduce_sum(one_hot, axis=4)\n",
    "    temp = tf.transpose(temp, [0, 3, 1, 2, 4])\n",
    "    temp = tf.reshape(temp, [-1,1])\n",
    "    one_hot = tf.transpose(one_hot, [0,3,1,2,4])\n",
    "    one_hot = tf.reshape(one_hot, [N*H*W*C,-1])\n",
    "    \n",
    "    index = tf.constant(np.array([range(temp.get_shape().as_list()[0])])/ K, dtype=tf.int32)\n",
    "    index = tf.transpose(index)\n",
    "    temp = tf.concat((index, temp), axis=1)\n",
    "    \n",
    "    \n",
    "#     to get the percentage\n",
    "    temp = tf.gather_nd(one_hot, temp)\n",
    "    temp = tf.reshape(temp, [N, C, H, W, K])\n",
    "#     finally we change it back to N,H,W,K,C\n",
    "    temp = tf.transpose(temp, [0, 2, 3, 4, 1])\n",
    "    \n",
    "    return temp"
   ]
  },
  {
   "cell_type": "code",
   "execution_count": 266,
   "metadata": {
    "collapsed": true
   },
   "outputs": [],
   "source": [
    "# fun could be tf.reduce_max, tf.reduce_sum, reduce_size\n",
    "def compute_weight(w, fun):\n",
    "    if isinstance(fun, str): deno = w.get_shape().as_list()[3]\n",
    "    else: deno = fun(w, axis=3, keep_dims=True)\n",
    "    temp = tf.divide(w, deno)\n",
    "    return temp"
   ]
  },
  {
   "cell_type": "code",
   "execution_count": 274,
   "metadata": {
    "collapsed": true
   },
   "outputs": [],
   "source": [
    "# weight before maxpool p:= patches, w:= weights\n",
    "def weight_max(p, w, fun):\n",
    "    temp = tf.multiply(p, compute_weight(w, fun))\n",
    "    temp = tf.reduce_max(temp, axis=3)\n",
    "    return temp\n",
    "\n",
    "# maxpool before weight\n",
    "def max_weight(p, w, fun):\n",
    "    [N, H, W, K, C] = p.get_shape().as_list()\n",
    "    w = compute_weight(w, fun)\n",
    "    p = tf.reshape(p, [])"
   ]
  },
  {
   "cell_type": "code",
   "execution_count": 279,
   "metadata": {},
   "outputs": [],
   "source": [
    "x = tf.constant(tt, dtype=tf.float32)\n",
    "\n",
    "p = extract_patches(x, \"VALID\", 2, 2)\n",
    "f = majority_frequency(p)\n",
    "\n",
    "# temp = weight_max(p, f, tf.reduce_max)\n",
    "\n",
    "temp = tf.nn.max_pool(x, ksize=[1,2,2,1],padding='VALID',strides=[1,2,2,1])\n",
    "\n",
    "with tf.Session() as sess:\n",
    "    ret = sess.run(temp)"
   ]
  },
  {
   "cell_type": "code",
   "execution_count": 245,
   "metadata": {},
   "outputs": [],
   "source": [
    "x = tf.constant(np.array([[1,2,3,4],[5,6,7,8]]))\n",
    "\n",
    "with tf.Session() as sess:\n",
    "    ret1 = sess.run(temp)"
   ]
  },
  {
   "cell_type": "code",
   "execution_count": 280,
   "metadata": {},
   "outputs": [
    {
     "data": {
      "text/plain": [
       "(1, 2, 2, 2)"
      ]
     },
     "execution_count": 280,
     "metadata": {},
     "output_type": "execute_result"
    }
   ],
   "source": [
    "ret.shape"
   ]
  },
  {
   "cell_type": "code",
   "execution_count": 281,
   "metadata": {},
   "outputs": [
    {
     "data": {
      "text/plain": [
       "array([[  6.,   8.],\n",
       "       [ 14.,  16.]], dtype=float32)"
      ]
     },
     "execution_count": 281,
     "metadata": {},
     "output_type": "execute_result"
    }
   ],
   "source": [
    "ret[0,:,:,0]"
   ]
  },
  {
   "cell_type": "code",
   "execution_count": 250,
   "metadata": {},
   "outputs": [
    {
     "data": {
      "text/plain": [
       "array([ 1.,  2.,  2.,  1.], dtype=float32)"
      ]
     },
     "execution_count": 250,
     "metadata": {},
     "output_type": "execute_result"
    }
   ],
   "source": [
    "ret[0,0,0,:,0]"
   ]
  },
  {
   "cell_type": "code",
   "execution_count": 264,
   "metadata": {},
   "outputs": [],
   "source": [
    "if isinstance(3, str):\n",
    "    print('trei')"
   ]
  }
 ],
 "metadata": {
  "kernelspec": {
   "display_name": "Python 3",
   "language": "python",
   "name": "python3"
  },
  "language_info": {
   "codemirror_mode": {
    "name": "ipython",
    "version": 3
   },
   "file_extension": ".py",
   "mimetype": "text/x-python",
   "name": "python",
   "nbconvert_exporter": "python",
   "pygments_lexer": "ipython3",
   "version": "3.6.1"
  }
 },
 "nbformat": 4,
 "nbformat_minor": 2
}
